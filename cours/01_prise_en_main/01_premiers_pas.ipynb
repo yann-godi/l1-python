{
 "cells": [
  {
   "cell_type": "markdown",
   "metadata": {
    "slideshow": {
     "slide_type": "slide"
    }
   },
   "source": [
    "# Cours 1 : premiers pas avec Python"
   ]
  },
  {
   "cell_type": "markdown",
   "metadata": {
    "slideshow": {
     "slide_type": "slide"
    }
   },
   "source": [
    "## 1. Utilisation du notebook Python\n",
    "---\n",
    "\n",
    "Un notebook est constitué de 2 sortes de *cellules*:\n",
    "\n",
    "* celles qui affichent du *texte formaté* \n",
    "* celles qui évaluent du *code Python*\n",
    "\n",
    "Ceci est une cellule de texte qui peut être éditée en double-cliquant dessus.\n",
    "On voit apparaître des *commandes* du langage [markdown](https://fr.wikipedia.org/wiki/Markdown).\n",
    "\n",
    "Voici maintenant une cellule de code Python:"
   ]
  },
  {
   "cell_type": "code",
   "execution_count": 1,
   "metadata": {
    "slideshow": {
     "slide_type": "fragment"
    }
   },
   "outputs": [
    {
     "output_type": "execute_result",
     "data": {
      "text/plain": "5.32"
     },
     "metadata": {},
     "execution_count": 1
    }
   ],
   "source": [
    "5 + 3.2 / 10"
   ]
  },
  {
   "cell_type": "markdown",
   "metadata": {
    "slideshow": {
     "slide_type": "fragment"
    }
   },
   "source": [
    "Le notebook permet d'écrire des programmes très lisibles, mais l'usage des outils de programmation est limité."
   ]
  },
  {
   "cell_type": "markdown",
   "metadata": {
    "slideshow": {
     "slide_type": "subslide"
    }
   },
   "source": [
    "**Evaluation d'une cellule de code**\n",
    "\n",
    "---"
   ]
  },
  {
   "cell_type": "code",
   "execution_count": 1,
   "metadata": {
    "slideshow": {
     "slide_type": "fragment"
    }
   },
   "outputs": [
    {
     "output_type": "execute_result",
     "data": {
      "text/plain": "5.32"
     },
     "metadata": {},
     "execution_count": 1
    }
   ],
   "source": [
    "5 + 3.2 / 10"
   ]
  },
  {
   "cell_type": "markdown",
   "metadata": {
    "slideshow": {
     "slide_type": "fragment"
    }
   },
   "source": [
    "Pour évaluer cette *expression* numérique, taper sur les touches `SHIFT + ENTREE` du clavier après avoir cliqué sur la cellule. Apparaissent alors:\n",
    "* un texte en sortie qui est la *valeur de l'expression*\n",
    "* un numéro à côté de la cellule qui est son *ordre d'évaluation* qui peut être différent de son ordre d'apparition."
   ]
  },
  {
   "cell_type": "markdown",
   "metadata": {
    "slideshow": {
     "slide_type": "subslide"
    }
   },
   "source": [
    "**Le notebook comme une calculatrice**\n",
    "\n",
    "---\n",
    "Dans le cours de Python, vos notes sont `8.5`, `12` et `9.5` de coefficients respectifs `1`, `2` et `3`. Avez-vous obtenu la moyenne?\n"
   ]
  },
  {
   "cell_type": "code",
   "execution_count": 3,
   "metadata": {
    "slideshow": {
     "slide_type": "fragment"
    }
   },
   "outputs": [
    {
     "output_type": "execute_result",
     "data": {
      "text/plain": "10.166666666666666"
     },
     "metadata": {},
     "execution_count": 3
    }
   ],
   "source": [
    "(8.5 * 1 + 12 * 2 + 9.5 * 3)/(1+2+3) "
   ]
  },
  {
   "cell_type": "markdown",
   "metadata": {
    "slideshow": {
     "slide_type": "subslide"
    }
   },
   "source": [
    "**Quelques commentaires**\n",
    "\n",
    "---"
   ]
  },
  {
   "cell_type": "code",
   "execution_count": 4,
   "metadata": {
    "slideshow": {
     "slide_type": "fragment"
    }
   },
   "outputs": [
    {
     "output_type": "execute_result",
     "data": {
      "text/plain": "True"
     },
     "metadata": {},
     "execution_count": 4
    }
   ],
   "source": [
    "(8.5 * 1 + 12 * 2 + 9.5 * 3) / (1 + 2 + 3) >= 10"
   ]
  },
  {
   "cell_type": "markdown",
   "metadata": {
    "slideshow": {
     "slide_type": "fragment"
    }
   },
   "source": [
    "* les nombres flottants s'écrivent avec un point et pas une virgule;\n",
    "* les caractères `+`, `*`, `>=`, etc. s'appellent des *opérateurs*;\n",
    "* les règles de priorité des expressions mathématiques s'appliquent et peuvent nécessiter l'usage des parenthèses;\n",
    "* les espaces sont facultatifs, mais les règles de style recommandent (voir [PEP8](https://www.python.org/dev/peps/pep-0008/)):\n",
    "    * un seul espace avant et après les opérateurs (+, /, etc...);\n",
    "    * pas d'espace à l'intérieur des parenthèses;\n",
    "    * si pas trop longue, l'expression est écrite sur une seule ligne"
   ]
  },
  {
   "cell_type": "markdown",
   "metadata": {
    "slideshow": {
     "slide_type": "subslide"
    }
   },
   "source": [
    "**Stocker un résultat**\n",
    "\n",
    "---\n",
    "\n",
    "L'instruction suivante sauve le résultat de l'expression `2 ** 10` dans la *variable* `a`."
   ]
  },
  {
   "cell_type": "code",
   "execution_count": 2,
   "metadata": {
    "slideshow": {
     "slide_type": "fragment"
    },
    "tags": []
   },
   "outputs": [
    {
     "output_type": "stream",
     "name": "stdout",
     "text": "1024\n"
    }
   ],
   "source": [
    "a = 2 ** 10\n",
    "print (a)"
   ]
  },
  {
   "cell_type": "markdown",
   "metadata": {
    "slideshow": {
     "slide_type": "fragment"
    }
   },
   "source": [
    "* pas de texte en sortie;\n",
    "* car cette instruction est une *affectation* qui n'a pas de valeur (contrairement aux expressions);"
   ]
  },
  {
   "cell_type": "markdown",
   "metadata": {
    "slideshow": {
     "slide_type": "subslide"
    }
   },
   "source": [
    "**Afficher la valeur de la variable**\n",
    "\n",
    "---\n",
    "Deux possibilités:"
   ]
  },
  {
   "cell_type": "code",
   "execution_count": null,
   "metadata": {
    "slideshow": {
     "slide_type": "fragment"
    }
   },
   "outputs": [],
   "source": [
    "a"
   ]
  },
  {
   "cell_type": "code",
   "execution_count": null,
   "metadata": {
    "slideshow": {
     "slide_type": "fragment"
    }
   },
   "outputs": [],
   "source": [
    "print(a)"
   ]
  },
  {
   "cell_type": "markdown",
   "metadata": {
    "slideshow": {
     "slide_type": "fragment"
    }
   },
   "source": [
    "La première est spécifique du notebook. \n",
    "\n",
    "Il vaut mieux **privilégier la seconde**.\n",
    "\n",
    "**Question**: au final, que calcule l'expression `2 ** 10`?"
   ]
  },
  {
   "cell_type": "markdown",
   "metadata": {
    "slideshow": {
     "slide_type": "subslide"
    }
   },
   "source": [
    "**Ordre d'évaluation du notebook: prudence**\n",
    "\n",
    "---"
   ]
  },
  {
   "cell_type": "markdown",
   "metadata": {
    "slideshow": {
     "slide_type": "notes"
    }
   },
   "source": [
    "Montrer que l'affichage dépend de l'ordre d'évaluation et pas de l'ordre d'apparition en évaluant les cellules plusieurs fois dans des ordres différents."
   ]
  },
  {
   "cell_type": "code",
   "execution_count": 4,
   "metadata": {
    "slideshow": {
     "slide_type": "fragment"
    },
    "tags": []
   },
   "outputs": [
    {
     "output_type": "stream",
     "name": "stdout",
     "text": "False\n"
    }
   ],
   "source": [
    "print(a)"
   ]
  },
  {
   "cell_type": "code",
   "execution_count": 5,
   "metadata": {
    "slideshow": {
     "slide_type": "fragment"
    }
   },
   "outputs": [],
   "source": [
    "a = False"
   ]
  },
  {
   "cell_type": "code",
   "execution_count": 6,
   "metadata": {
    "slideshow": {
     "slide_type": "fragment"
    },
    "tags": []
   },
   "outputs": [
    {
     "output_type": "stream",
     "name": "stdout",
     "text": "False\n"
    }
   ],
   "source": [
    "print(a)"
   ]
  },
  {
   "cell_type": "code",
   "execution_count": 7,
   "metadata": {
    "slideshow": {
     "slide_type": "fragment"
    }
   },
   "outputs": [],
   "source": [
    "a = 0.1 ** 10"
   ]
  },
  {
   "cell_type": "code",
   "execution_count": 8,
   "metadata": {
    "slideshow": {
     "slide_type": "fragment"
    },
    "tags": []
   },
   "outputs": [
    {
     "output_type": "stream",
     "name": "stdout",
     "text": "1.0000000000000006e-10\n"
    }
   ],
   "source": [
    "print(a)"
   ]
  },
  {
   "cell_type": "markdown",
   "metadata": {
    "slideshow": {
     "slide_type": "subslide"
    }
   },
   "source": [
    "**Le notebook ne se limite pas à des calculs numériques**\n",
    "\n",
    "---"
   ]
  },
  {
   "cell_type": "code",
   "execution_count": 9,
   "metadata": {
    "slideshow": {
     "slide_type": "fragment"
    }
   },
   "outputs": [
    {
     "output_type": "display_data",
     "data": {
      "text/plain": "&lt;Figure size 432x288 with 1 Axes&gt;",
      "image/svg+xml": "<?xml version=\"1.0\" encoding=\"utf-8\" standalone=\"no\"?>\r\n<!DOCTYPE svg PUBLIC \"-//W3C//DTD SVG 1.1//EN\"\r\n  \"http://www.w3.org/Graphics/SVG/1.1/DTD/svg11.dtd\">\r\n<!-- Created with matplotlib (https://matplotlib.org/) -->\r\n<svg height=\"252.211172pt\" version=\"1.1\" viewBox=\"0 0 373.01 252.211172\" width=\"373.01pt\" xmlns=\"http://www.w3.org/2000/svg\" xmlns:xlink=\"http://www.w3.org/1999/xlink\">\r\n <metadata>\r\n  <rdf:RDF xmlns:cc=\"http://creativecommons.org/ns#\" xmlns:dc=\"http://purl.org/dc/elements/1.1/\" xmlns:rdf=\"http://www.w3.org/1999/02/22-rdf-syntax-ns#\">\r\n   <cc:Work>\r\n    <dc:type rdf:resource=\"http://purl.org/dc/dcmitype/StillImage\"/>\r\n    <dc:date>2020-10-01T14:40:13.400586</dc:date>\r\n    <dc:format>image/svg+xml</dc:format>\r\n    <dc:creator>\r\n     <cc:Agent>\r\n      <dc:title>Matplotlib v3.3.1, https://matplotlib.org/</dc:title>\r\n     </cc:Agent>\r\n    </dc:creator>\r\n   </cc:Work>\r\n  </rdf:RDF>\r\n </metadata>\r\n <defs>\r\n  <style type=\"text/css\">*{stroke-linecap:butt;stroke-linejoin:round;}</style>\r\n </defs>\r\n <g id=\"figure_1\">\r\n  <g id=\"patch_1\">\r\n   <path d=\"M 0 252.211172 \r\nL 373.01 252.211172 \r\nL 373.01 0 \r\nL 0 0 \r\nz\r\n\" style=\"fill:none;\"/>\r\n  </g>\r\n  <g id=\"axes_1\">\r\n   <g id=\"patch_2\">\r\n    <path d=\"M 39.65 228.333047 \r\nL 365.81 228.333047 \r\nL 365.81 10.893047 \r\nL 39.65 10.893047 \r\nz\r\n\" style=\"fill:#ffffff;\"/>\r\n   </g>\r\n   <g clip-path=\"url(#p8e1a52d5c3)\">\r\n    <image height=\"218\" id=\"image1a21453db3\" transform=\"scale(1 -1)translate(0 -218)\" width=\"327\" x=\"39.65\" xlink:href=\"data:image/png;base64,\r\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\" y=\"-10.333047\"/>\r\n   </g>\r\n   <g id=\"matplotlib.axis_1\">\r\n    <g id=\"xtick_1\">\r\n     <g id=\"line2d_1\">\r\n      <defs>\r\n       <path d=\"M 0 0 \r\nL 0 3.5 \r\n\" id=\"mc042cb2993\" style=\"stroke:#000000;stroke-width:0.8;\"/>\r\n      </defs>\r\n      <g>\r\n       <use style=\"stroke:#000000;stroke-width:0.8;\" x=\"39.756172\" xlink:href=\"#mc042cb2993\" y=\"228.333047\"/>\r\n      </g>\r\n     </g>\r\n     <g id=\"text_1\">\r\n      <!-- 0 -->\r\n      <g transform=\"translate(36.574922 242.931484)scale(0.1 -0.1)\">\r\n       <defs>\r\n        <path d=\"M 31.78125 66.40625 \r\nQ 24.171875 66.40625 20.328125 58.90625 \r\nQ 16.5 51.421875 16.5 36.375 \r\nQ 16.5 21.390625 20.328125 13.890625 \r\nQ 24.171875 6.390625 31.78125 6.390625 \r\nQ 39.453125 6.390625 43.28125 13.890625 \r\nQ 47.125 21.390625 47.125 36.375 \r\nQ 47.125 51.421875 43.28125 58.90625 \r\nQ 39.453125 66.40625 31.78125 66.40625 \r\nz\r\nM 31.78125 74.21875 \r\nQ 44.046875 74.21875 50.515625 64.515625 \r\nQ 56.984375 54.828125 56.984375 36.375 \r\nQ 56.984375 17.96875 50.515625 8.265625 \r\nQ 44.046875 -1.421875 31.78125 -1.421875 \r\nQ 19.53125 -1.421875 13.0625 8.265625 \r\nQ 6.59375 17.96875 6.59375 36.375 \r\nQ 6.59375 54.828125 13.0625 64.515625 \r\nQ 19.53125 74.21875 31.78125 74.21875 \r\nz\r\n\" id=\"DejaVuSans-48\"/>\r\n       </defs>\r\n       <use xlink:href=\"#DejaVuSans-48\"/>\r\n      </g>\r\n     </g>\r\n    </g>\r\n    <g id=\"xtick_2\">\r\n     <g id=\"line2d_2\">\r\n      <g>\r\n       <use style=\"stroke:#000000;stroke-width:0.8;\" x=\"82.224922\" xlink:href=\"#mc042cb2993\" y=\"228.333047\"/>\r\n      </g>\r\n     </g>\r\n     <g id=\"text_2\">\r\n      <!-- 200 -->\r\n      <g transform=\"translate(72.681172 242.931484)scale(0.1 -0.1)\">\r\n       <defs>\r\n        <path d=\"M 19.1875 8.296875 \r\nL 53.609375 8.296875 \r\nL 53.609375 0 \r\nL 7.328125 0 \r\nL 7.328125 8.296875 \r\nQ 12.9375 14.109375 22.625 23.890625 \r\nQ 32.328125 33.6875 34.8125 36.53125 \r\nQ 39.546875 41.84375 41.421875 45.53125 \r\nQ 43.3125 49.21875 43.3125 52.78125 \r\nQ 43.3125 58.59375 39.234375 62.25 \r\nQ 35.15625 65.921875 28.609375 65.921875 \r\nQ 23.96875 65.921875 18.8125 64.3125 \r\nQ 13.671875 62.703125 7.8125 59.421875 \r\nL 7.8125 69.390625 \r\nQ 13.765625 71.78125 18.9375 73 \r\nQ 24.125 74.21875 28.421875 74.21875 \r\nQ 39.75 74.21875 46.484375 68.546875 \r\nQ 53.21875 62.890625 53.21875 53.421875 \r\nQ 53.21875 48.921875 51.53125 44.890625 \r\nQ 49.859375 40.875 45.40625 35.40625 \r\nQ 44.1875 33.984375 37.640625 27.21875 \r\nQ 31.109375 20.453125 19.1875 8.296875 \r\nz\r\n\" id=\"DejaVuSans-50\"/>\r\n       </defs>\r\n       <use xlink:href=\"#DejaVuSans-50\"/>\r\n       <use x=\"63.623047\" xlink:href=\"#DejaVuSans-48\"/>\r\n       <use x=\"127.246094\" xlink:href=\"#DejaVuSans-48\"/>\r\n      </g>\r\n     </g>\r\n    </g>\r\n    <g id=\"xtick_3\">\r\n     <g id=\"line2d_3\">\r\n      <g>\r\n       <use style=\"stroke:#000000;stroke-width:0.8;\" x=\"124.693672\" xlink:href=\"#mc042cb2993\" y=\"228.333047\"/>\r\n      </g>\r\n     </g>\r\n     <g id=\"text_3\">\r\n      <!-- 400 -->\r\n      <g transform=\"translate(115.149922 242.931484)scale(0.1 -0.1)\">\r\n       <defs>\r\n        <path d=\"M 37.796875 64.3125 \r\nL 12.890625 25.390625 \r\nL 37.796875 25.390625 \r\nz\r\nM 35.203125 72.90625 \r\nL 47.609375 72.90625 \r\nL 47.609375 25.390625 \r\nL 58.015625 25.390625 \r\nL 58.015625 17.1875 \r\nL 47.609375 17.1875 \r\nL 47.609375 0 \r\nL 37.796875 0 \r\nL 37.796875 17.1875 \r\nL 4.890625 17.1875 \r\nL 4.890625 26.703125 \r\nz\r\n\" id=\"DejaVuSans-52\"/>\r\n       </defs>\r\n       <use xlink:href=\"#DejaVuSans-52\"/>\r\n       <use x=\"63.623047\" xlink:href=\"#DejaVuSans-48\"/>\r\n       <use x=\"127.246094\" xlink:href=\"#DejaVuSans-48\"/>\r\n      </g>\r\n     </g>\r\n    </g>\r\n    <g id=\"xtick_4\">\r\n     <g id=\"line2d_4\">\r\n      <g>\r\n       <use style=\"stroke:#000000;stroke-width:0.8;\" x=\"167.162422\" xlink:href=\"#mc042cb2993\" y=\"228.333047\"/>\r\n      </g>\r\n     </g>\r\n     <g id=\"text_4\">\r\n      <!-- 600 -->\r\n      <g transform=\"translate(157.618672 242.931484)scale(0.1 -0.1)\">\r\n       <defs>\r\n        <path d=\"M 33.015625 40.375 \r\nQ 26.375 40.375 22.484375 35.828125 \r\nQ 18.609375 31.296875 18.609375 23.390625 \r\nQ 18.609375 15.53125 22.484375 10.953125 \r\nQ 26.375 6.390625 33.015625 6.390625 \r\nQ 39.65625 6.390625 43.53125 10.953125 \r\nQ 47.40625 15.53125 47.40625 23.390625 \r\nQ 47.40625 31.296875 43.53125 35.828125 \r\nQ 39.65625 40.375 33.015625 40.375 \r\nz\r\nM 52.59375 71.296875 \r\nL 52.59375 62.3125 \r\nQ 48.875 64.0625 45.09375 64.984375 \r\nQ 41.3125 65.921875 37.59375 65.921875 \r\nQ 27.828125 65.921875 22.671875 59.328125 \r\nQ 17.53125 52.734375 16.796875 39.40625 \r\nQ 19.671875 43.65625 24.015625 45.921875 \r\nQ 28.375 48.1875 33.59375 48.1875 \r\nQ 44.578125 48.1875 50.953125 41.515625 \r\nQ 57.328125 34.859375 57.328125 23.390625 \r\nQ 57.328125 12.15625 50.6875 5.359375 \r\nQ 44.046875 -1.421875 33.015625 -1.421875 \r\nQ 20.359375 -1.421875 13.671875 8.265625 \r\nQ 6.984375 17.96875 6.984375 36.375 \r\nQ 6.984375 53.65625 15.1875 63.9375 \r\nQ 23.390625 74.21875 37.203125 74.21875 \r\nQ 40.921875 74.21875 44.703125 73.484375 \r\nQ 48.484375 72.75 52.59375 71.296875 \r\nz\r\n\" id=\"DejaVuSans-54\"/>\r\n       </defs>\r\n       <use xlink:href=\"#DejaVuSans-54\"/>\r\n       <use x=\"63.623047\" xlink:href=\"#DejaVuSans-48\"/>\r\n       <use x=\"127.246094\" xlink:href=\"#DejaVuSans-48\"/>\r\n      </g>\r\n     </g>\r\n    </g>\r\n    <g id=\"xtick_5\">\r\n     <g id=\"line2d_5\">\r\n      <g>\r\n       <use style=\"stroke:#000000;stroke-width:0.8;\" x=\"209.631172\" xlink:href=\"#mc042cb2993\" y=\"228.333047\"/>\r\n      </g>\r\n     </g>\r\n     <g id=\"text_5\">\r\n      <!-- 800 -->\r\n      <g transform=\"translate(200.087422 242.931484)scale(0.1 -0.1)\">\r\n       <defs>\r\n        <path d=\"M 31.78125 34.625 \r\nQ 24.75 34.625 20.71875 30.859375 \r\nQ 16.703125 27.09375 16.703125 20.515625 \r\nQ 16.703125 13.921875 20.71875 10.15625 \r\nQ 24.75 6.390625 31.78125 6.390625 \r\nQ 38.8125 6.390625 42.859375 10.171875 \r\nQ 46.921875 13.96875 46.921875 20.515625 \r\nQ 46.921875 27.09375 42.890625 30.859375 \r\nQ 38.875 34.625 31.78125 34.625 \r\nz\r\nM 21.921875 38.8125 \r\nQ 15.578125 40.375 12.03125 44.71875 \r\nQ 8.5 49.078125 8.5 55.328125 \r\nQ 8.5 64.0625 14.71875 69.140625 \r\nQ 20.953125 74.21875 31.78125 74.21875 \r\nQ 42.671875 74.21875 48.875 69.140625 \r\nQ 55.078125 64.0625 55.078125 55.328125 \r\nQ 55.078125 49.078125 51.53125 44.71875 \r\nQ 48 40.375 41.703125 38.8125 \r\nQ 48.828125 37.15625 52.796875 32.3125 \r\nQ 56.78125 27.484375 56.78125 20.515625 \r\nQ 56.78125 9.90625 50.3125 4.234375 \r\nQ 43.84375 -1.421875 31.78125 -1.421875 \r\nQ 19.734375 -1.421875 13.25 4.234375 \r\nQ 6.78125 9.90625 6.78125 20.515625 \r\nQ 6.78125 27.484375 10.78125 32.3125 \r\nQ 14.796875 37.15625 21.921875 38.8125 \r\nz\r\nM 18.3125 54.390625 \r\nQ 18.3125 48.734375 21.84375 45.5625 \r\nQ 25.390625 42.390625 31.78125 42.390625 \r\nQ 38.140625 42.390625 41.71875 45.5625 \r\nQ 45.3125 48.734375 45.3125 54.390625 \r\nQ 45.3125 60.0625 41.71875 63.234375 \r\nQ 38.140625 66.40625 31.78125 66.40625 \r\nQ 25.390625 66.40625 21.84375 63.234375 \r\nQ 18.3125 60.0625 18.3125 54.390625 \r\nz\r\n\" id=\"DejaVuSans-56\"/>\r\n       </defs>\r\n       <use xlink:href=\"#DejaVuSans-56\"/>\r\n       <use x=\"63.623047\" xlink:href=\"#DejaVuSans-48\"/>\r\n       <use x=\"127.246094\" xlink:href=\"#DejaVuSans-48\"/>\r\n      </g>\r\n     </g>\r\n    </g>\r\n    <g id=\"xtick_6\">\r\n     <g id=\"line2d_6\">\r\n      <g>\r\n       <use style=\"stroke:#000000;stroke-width:0.8;\" x=\"252.099922\" xlink:href=\"#mc042cb2993\" y=\"228.333047\"/>\r\n      </g>\r\n     </g>\r\n     <g id=\"text_6\">\r\n      <!-- 1000 -->\r\n      <g transform=\"translate(239.374922 242.931484)scale(0.1 -0.1)\">\r\n       <defs>\r\n        <path d=\"M 12.40625 8.296875 \r\nL 28.515625 8.296875 \r\nL 28.515625 63.921875 \r\nL 10.984375 60.40625 \r\nL 10.984375 69.390625 \r\nL 28.421875 72.90625 \r\nL 38.28125 72.90625 \r\nL 38.28125 8.296875 \r\nL 54.390625 8.296875 \r\nL 54.390625 0 \r\nL 12.40625 0 \r\nz\r\n\" id=\"DejaVuSans-49\"/>\r\n       </defs>\r\n       <use xlink:href=\"#DejaVuSans-49\"/>\r\n       <use x=\"63.623047\" xlink:href=\"#DejaVuSans-48\"/>\r\n       <use x=\"127.246094\" xlink:href=\"#DejaVuSans-48\"/>\r\n       <use x=\"190.869141\" xlink:href=\"#DejaVuSans-48\"/>\r\n      </g>\r\n     </g>\r\n    </g>\r\n    <g id=\"xtick_7\">\r\n     <g id=\"line2d_7\">\r\n      <g>\r\n       <use style=\"stroke:#000000;stroke-width:0.8;\" x=\"294.568672\" xlink:href=\"#mc042cb2993\" y=\"228.333047\"/>\r\n      </g>\r\n     </g>\r\n     <g id=\"text_7\">\r\n      <!-- 1200 -->\r\n      <g transform=\"translate(281.843672 242.931484)scale(0.1 -0.1)\">\r\n       <use xlink:href=\"#DejaVuSans-49\"/>\r\n       <use x=\"63.623047\" xlink:href=\"#DejaVuSans-50\"/>\r\n       <use x=\"127.246094\" xlink:href=\"#DejaVuSans-48\"/>\r\n       <use x=\"190.869141\" xlink:href=\"#DejaVuSans-48\"/>\r\n      </g>\r\n     </g>\r\n    </g>\r\n    <g id=\"xtick_8\">\r\n     <g id=\"line2d_8\">\r\n      <g>\r\n       <use style=\"stroke:#000000;stroke-width:0.8;\" x=\"337.037422\" xlink:href=\"#mc042cb2993\" y=\"228.333047\"/>\r\n      </g>\r\n     </g>\r\n     <g id=\"text_8\">\r\n      <!-- 1400 -->\r\n      <g transform=\"translate(324.312422 242.931484)scale(0.1 -0.1)\">\r\n       <use xlink:href=\"#DejaVuSans-49\"/>\r\n       <use x=\"63.623047\" xlink:href=\"#DejaVuSans-52\"/>\r\n       <use x=\"127.246094\" xlink:href=\"#DejaVuSans-48\"/>\r\n       <use x=\"190.869141\" xlink:href=\"#DejaVuSans-48\"/>\r\n      </g>\r\n     </g>\r\n    </g>\r\n   </g>\r\n   <g id=\"matplotlib.axis_2\">\r\n    <g id=\"ytick_1\">\r\n     <g id=\"line2d_9\">\r\n      <defs>\r\n       <path d=\"M 0 0 \r\nL -3.5 0 \r\n\" id=\"m33b708750d\" style=\"stroke:#000000;stroke-width:0.8;\"/>\r\n      </defs>\r\n      <g>\r\n       <use style=\"stroke:#000000;stroke-width:0.8;\" x=\"39.65\" xlink:href=\"#m33b708750d\" y=\"10.999219\"/>\r\n      </g>\r\n     </g>\r\n     <g id=\"text_9\">\r\n      <!-- 0 -->\r\n      <g transform=\"translate(26.2875 14.798437)scale(0.1 -0.1)\">\r\n       <use xlink:href=\"#DejaVuSans-48\"/>\r\n      </g>\r\n     </g>\r\n    </g>\r\n    <g id=\"ytick_2\">\r\n     <g id=\"line2d_10\">\r\n      <g>\r\n       <use style=\"stroke:#000000;stroke-width:0.8;\" x=\"39.65\" xlink:href=\"#m33b708750d\" y=\"53.467969\"/>\r\n      </g>\r\n     </g>\r\n     <g id=\"text_10\">\r\n      <!-- 200 -->\r\n      <g transform=\"translate(13.5625 57.267187)scale(0.1 -0.1)\">\r\n       <use xlink:href=\"#DejaVuSans-50\"/>\r\n       <use x=\"63.623047\" xlink:href=\"#DejaVuSans-48\"/>\r\n       <use x=\"127.246094\" xlink:href=\"#DejaVuSans-48\"/>\r\n      </g>\r\n     </g>\r\n    </g>\r\n    <g id=\"ytick_3\">\r\n     <g id=\"line2d_11\">\r\n      <g>\r\n       <use style=\"stroke:#000000;stroke-width:0.8;\" x=\"39.65\" xlink:href=\"#m33b708750d\" y=\"95.936719\"/>\r\n      </g>\r\n     </g>\r\n     <g id=\"text_11\">\r\n      <!-- 400 -->\r\n      <g transform=\"translate(13.5625 99.735937)scale(0.1 -0.1)\">\r\n       <use xlink:href=\"#DejaVuSans-52\"/>\r\n       <use x=\"63.623047\" xlink:href=\"#DejaVuSans-48\"/>\r\n       <use x=\"127.246094\" xlink:href=\"#DejaVuSans-48\"/>\r\n      </g>\r\n     </g>\r\n    </g>\r\n    <g id=\"ytick_4\">\r\n     <g id=\"line2d_12\">\r\n      <g>\r\n       <use style=\"stroke:#000000;stroke-width:0.8;\" x=\"39.65\" xlink:href=\"#m33b708750d\" y=\"138.405469\"/>\r\n      </g>\r\n     </g>\r\n     <g id=\"text_12\">\r\n      <!-- 600 -->\r\n      <g transform=\"translate(13.5625 142.204687)scale(0.1 -0.1)\">\r\n       <use xlink:href=\"#DejaVuSans-54\"/>\r\n       <use x=\"63.623047\" xlink:href=\"#DejaVuSans-48\"/>\r\n       <use x=\"127.246094\" xlink:href=\"#DejaVuSans-48\"/>\r\n      </g>\r\n     </g>\r\n    </g>\r\n    <g id=\"ytick_5\">\r\n     <g id=\"line2d_13\">\r\n      <g>\r\n       <use style=\"stroke:#000000;stroke-width:0.8;\" x=\"39.65\" xlink:href=\"#m33b708750d\" y=\"180.874219\"/>\r\n      </g>\r\n     </g>\r\n     <g id=\"text_13\">\r\n      <!-- 800 -->\r\n      <g transform=\"translate(13.5625 184.673437)scale(0.1 -0.1)\">\r\n       <use xlink:href=\"#DejaVuSans-56\"/>\r\n       <use x=\"63.623047\" xlink:href=\"#DejaVuSans-48\"/>\r\n       <use x=\"127.246094\" xlink:href=\"#DejaVuSans-48\"/>\r\n      </g>\r\n     </g>\r\n    </g>\r\n    <g id=\"ytick_6\">\r\n     <g id=\"line2d_14\">\r\n      <g>\r\n       <use style=\"stroke:#000000;stroke-width:0.8;\" x=\"39.65\" xlink:href=\"#m33b708750d\" y=\"223.342969\"/>\r\n      </g>\r\n     </g>\r\n     <g id=\"text_14\">\r\n      <!-- 1000 -->\r\n      <g transform=\"translate(7.2 227.142187)scale(0.1 -0.1)\">\r\n       <use xlink:href=\"#DejaVuSans-49\"/>\r\n       <use x=\"63.623047\" xlink:href=\"#DejaVuSans-48\"/>\r\n       <use x=\"127.246094\" xlink:href=\"#DejaVuSans-48\"/>\r\n       <use x=\"190.869141\" xlink:href=\"#DejaVuSans-48\"/>\r\n      </g>\r\n     </g>\r\n    </g>\r\n   </g>\r\n   <g id=\"patch_3\">\r\n    <path d=\"M 39.65 228.333047 \r\nL 39.65 10.893047 \r\n\" style=\"fill:none;stroke:#000000;stroke-linecap:square;stroke-linejoin:miter;stroke-width:0.8;\"/>\r\n   </g>\r\n   <g id=\"patch_4\">\r\n    <path d=\"M 365.81 228.333047 \r\nL 365.81 10.893047 \r\n\" style=\"fill:none;stroke:#000000;stroke-linecap:square;stroke-linejoin:miter;stroke-width:0.8;\"/>\r\n   </g>\r\n   <g id=\"patch_5\">\r\n    <path d=\"M 39.65 228.333047 \r\nL 365.81 228.333047 \r\n\" style=\"fill:none;stroke:#000000;stroke-linecap:square;stroke-linejoin:miter;stroke-width:0.8;\"/>\r\n   </g>\r\n   <g id=\"patch_6\">\r\n    <path d=\"M 39.65 10.893047 \r\nL 365.81 10.893047 \r\n\" style=\"fill:none;stroke:#000000;stroke-linecap:square;stroke-linejoin:miter;stroke-width:0.8;\"/>\r\n   </g>\r\n  </g>\r\n </g>\r\n <defs>\r\n  <clipPath id=\"p8e1a52d5c3\">\r\n   <rect height=\"217.44\" width=\"326.16\" x=\"39.65\" y=\"10.893047\"/>\r\n  </clipPath>\r\n </defs>\r\n</svg>\r\n",
      "image/png": "[encoded data removed]"
     },
     "metadata": {
      "needs_background": "light"
     }
    }
   ],
   "source": [
    "import numpy\n",
    "from pylab import imshow, show\n",
    "\n",
    "def mandel(x, y, max_iters):\n",
    "  \"\"\"\n",
    "    Given the real and imaginary parts of a complex number,\n",
    "    determine if it is a candidate for membership in the Mandelbrot\n",
    "    set given a fixed number of iterations.\n",
    "  \"\"\"\n",
    "  c = complex(x, y)\n",
    "  z = 0.0j\n",
    "  for i in range(max_iters):\n",
    "    z = z*z + c\n",
    "    if (z.real*z.real + z.imag*z.imag) >= 4:\n",
    "      return i\n",
    "  return max_iters\n",
    "\n",
    "def create_fractal(min_x, max_x, min_y, max_y, image, iters):\n",
    "  height = image.shape[0]\n",
    "  width = image.shape[1]\n",
    "  pixel_size_x = (max_x - min_x) / width\n",
    "  pixel_size_y = (max_y - min_y) / height\n",
    "    \n",
    "  for x in range(width):\n",
    "    real = min_x + x * pixel_size_x\n",
    "    for y in range(height):\n",
    "      imag = min_y + y * pixel_size_y\n",
    "      color = mandel(real, imag, iters)\n",
    "      image[y, x] = color\n",
    "\n",
    "image = numpy.zeros((1024, 1536), dtype = numpy.uint8)\n",
    "create_fractal(-2.0, 1.0, -1.0, 1.0, image, 20) \n",
    "\n",
    "imshow(image)\n",
    "show()"
   ]
  },
  {
   "cell_type": "markdown",
   "metadata": {
    "slideshow": {
     "slide_type": "slide"
    }
   },
   "source": [
    "## 2. Les variables\n",
    "---\n",
    "Un premier exemple:"
   ]
  },
  {
   "cell_type": "code",
   "execution_count": 9,
   "metadata": {
    "slideshow": {
     "slide_type": "fragment"
    },
    "tags": []
   },
   "outputs": [
    {
     "output_type": "stream",
     "name": "stdout",
     "text": "2 2\n2 3\n"
    }
   ],
   "source": [
    "x = 2\n",
    "y = x\n",
    "print(x, y)\n",
    "y = 3\n",
    "print(x, y)"
   ]
  },
  {
   "cell_type": "markdown",
   "metadata": {
    "slideshow": {
     "slide_type": "fragment"
    }
   },
   "source": [
    "**Notes:** \n",
    "* `2` et `3` sont des *objets* de *type entier* (cf plus tard)\n",
    "* `x` et `y` sont des identifiants qui font référence à l'un de ces objets\n",
    "* règle de style: on met un espace après une virgule mais pas avant"
   ]
  },
  {
   "cell_type": "markdown",
   "metadata": {
    "slideshow": {
     "slide_type": "subslide"
    }
   },
   "source": [
    "**Echanger les valeurs de deux variables**\n",
    "\n",
    "---\n"
   ]
  },
  {
   "cell_type": "code",
   "execution_count": 10,
   "metadata": {
    "slideshow": {
     "slide_type": "fragment"
    },
    "tags": []
   },
   "outputs": [
    {
     "output_type": "stream",
     "name": "stdout",
     "text": "3 2\n"
    }
   ],
   "source": [
    "x = 2\n",
    "y = 3\n",
    "#échanger la valeur des 2 variables ici\n",
    "z = x\n",
    "x = y\n",
    "y = z\n",
    "\n",
    "print(x, y)"
   ]
  },
  {
   "cell_type": "code",
   "execution_count": 10,
   "metadata": {
    "slideshow": {
     "slide_type": "notes"
    },
    "tags": []
   },
   "outputs": [
    {
     "output_type": "stream",
     "name": "stdout",
     "text": "3 3\n3 2\n3 2\n"
    }
   ],
   "source": [
    "#Méthode fausse\n",
    "x = 2\n",
    "y = 3\n",
    "x = y\n",
    "y = x\n",
    "print(x, y)\n",
    "\n",
    "#première méthode\n",
    "x = 2\n",
    "y = 3\n",
    "z = x\n",
    "x = y\n",
    "y = z\n",
    "print(x, y)\n",
    "\n",
    "#deuxième méthode plus pythonesque: utilisation de tuples\n",
    "x = 2\n",
    "y = 3\n",
    "x, y = y, x\n",
    "print(x, y)"
   ]
  },
  {
   "cell_type": "markdown",
   "metadata": {
    "slideshow": {
     "slide_type": "fragment"
    }
   },
   "source": [
    "**Question**: et permuter 3 variables circulairement?"
   ]
  },
  {
   "cell_type": "code",
   "execution_count": 11,
   "metadata": {
    "slideshow": {
     "slide_type": "notes"
    },
    "tags": []
   },
   "outputs": [
    {
     "output_type": "stream",
     "name": "stdout",
     "text": "3 4 2\n"
    }
   ],
   "source": [
    "x, y, z = 2, 3, 4\n",
    "x, y, z = y, z, x\n",
    "print(x, y, z)"
   ]
  },
  {
   "cell_type": "code",
   "execution_count": null,
   "metadata": {
    "slideshow": {
     "slide_type": "fragment"
    }
   },
   "outputs": [],
   "source": []
  },
  {
   "cell_type": "markdown",
   "metadata": {
    "slideshow": {
     "slide_type": "fragment"
    }
   },
   "source": [
    "**Remarque**: on a ajouté un commentaire avec le caractère `#` "
   ]
  },
  {
   "cell_type": "markdown",
   "metadata": {
    "slideshow": {
     "slide_type": "subslide"
    }
   },
   "source": [
    "**Remarques sur l'affectation**\n",
    "\n",
    "---\n",
    "Contrairement à l'égalité en maths, l'opérateur d'affectation `=` n'est pas symétrique:"
   ]
  },
  {
   "cell_type": "code",
   "execution_count": null,
   "metadata": {
    "slideshow": {
     "slide_type": "fragment"
    }
   },
   "outputs": [],
   "source": [
    "5 = x"
   ]
  },
  {
   "cell_type": "markdown",
   "metadata": {
    "slideshow": {
     "slide_type": "fragment"
    }
   },
   "source": [
    "* l'opérande de gauche doit être une variable\n",
    "* l'opérande de droite doit être une expression ($\\approx$ avoir une valeur)"
   ]
  },
  {
   "cell_type": "markdown",
   "metadata": {
    "slideshow": {
     "slide_type": "subslide"
    }
   },
   "source": [
    "**Règles de nommage des variables**\n",
    "\n",
    "---\n",
    "\n",
    "* caractères autorisés:\n",
    "    * caractère alphabétique (A à Z) en majuscule ou minuscule\n",
    "    * chiffres (0 à 9)\n",
    "    * caractère souligné `_` (touche 8 du clavier)\n",
    "    * et c'est tout! Ni espace, ni caractères accentués...\n",
    "* le nom ne doit pas commencer par un chiffre\n",
    "* Python est sensible à la casse: les variables `toto` et `toTo` sont différentes\n",
    "* ne pas utiliser un mot réservé du langage comme `print` et toutes les fonctions natives que nous verrons\n",
    "* recommandations annexes:\n",
    "    * sauf exceptions, donner un nom explicite aux variables tel `nb_de_vie`\n",
    "    * suivre cet exemple, cad séparer les mots par des `_` sans majuscules\n",
    "    * éviter d'autres formes telles `NbDeVie`; au moins être cohérent dans tout le programme\n"
   ]
  },
  {
   "cell_type": "markdown",
   "metadata": {
    "slideshow": {
     "slide_type": "slide"
    }
   },
   "source": [
    "## 3. Types de données\n",
    "---\n",
    "\n",
    "Le type d'une donnée détermine:\n",
    "* les opérations que l'on peut lui appliquer\n",
    "* les valeurs qu'elle peut prendre\n",
    "\n",
    "Les types prédéfinis que l'on va manipuler au début sont:\n",
    "* les nombres entiers\n",
    "* les nombres flottants\n",
    "* les nombres booléens\n",
    "* les chaînes de caractères\n",
    "\n",
    "**Question**: donner des exemples d'opérations que l'on doit pouvoir faire avec ces types."
   ]
  },
  {
   "cell_type": "markdown",
   "metadata": {
    "slideshow": {
     "slide_type": "subslide"
    }
   },
   "source": [
    "**Afficher les types**\n",
    "\n",
    "---"
   ]
  },
  {
   "cell_type": "code",
   "execution_count": 14,
   "metadata": {
    "slideshow": {
     "slide_type": "fragment"
    },
    "tags": []
   },
   "outputs": [
    {
     "output_type": "stream",
     "name": "stdout",
     "text": "&lt;class &#39;int&#39;&gt; &lt;class &#39;int&#39;&gt;\n"
    }
   ],
   "source": [
    "a = 5\n",
    "print(type(a), type(7))"
   ]
  },
  {
   "cell_type": "code",
   "execution_count": 15,
   "metadata": {
    "slideshow": {
     "slide_type": "fragment"
    },
    "tags": []
   },
   "outputs": [
    {
     "output_type": "stream",
     "name": "stdout",
     "text": "&lt;class &#39;float&#39;&gt;\n"
    }
   ],
   "source": [
    "a = 3.14\n",
    "print(type(a))"
   ]
  },
  {
   "cell_type": "code",
   "execution_count": 16,
   "metadata": {
    "slideshow": {
     "slide_type": "fragment"
    },
    "tags": []
   },
   "outputs": [
    {
     "output_type": "stream",
     "name": "stdout",
     "text": "False &lt;class &#39;bool&#39;&gt;\n"
    }
   ],
   "source": [
    "a = (5 < 2)\n",
    "print(a, type(a))"
   ]
  },
  {
   "cell_type": "code",
   "execution_count": 12,
   "metadata": {
    "slideshow": {
     "slide_type": "fragment"
    },
    "tags": []
   },
   "outputs": [
    {
     "output_type": "stream",
     "name": "stdout",
     "text": "&lt;class &#39;str&#39;&gt;\n"
    }
   ],
   "source": [
    "print(type(\"hello world\"))"
   ]
  },
  {
   "cell_type": "markdown",
   "metadata": {
    "slideshow": {
     "slide_type": "fragment"
    }
   },
   "source": [
    "**Remarque**: le type d'une variable peut changer au cours du temps, et il n'est pas explicité par le programmeur (typage *dynamique* et *implicite*)."
   ]
  },
  {
   "cell_type": "markdown",
   "metadata": {
    "slideshow": {
     "slide_type": "subslide"
    }
   },
   "source": [
    "**Type entier**\n",
    "\n",
    "---\n",
    "Les entiers ont une précision arbitraire."
   ]
  },
  {
   "cell_type": "code",
   "execution_count": 18,
   "metadata": {
    "slideshow": {
     "slide_type": "fragment"
    },
    "tags": []
   },
   "outputs": [
    {
     "output_type": "stream",
     "name": "stdout",
     "text": "10000000000000000000000000000000000000000000000000000000000000000000000000000000000000000000000000000\n"
    }
   ],
   "source": [
    "a = 10 ** 10\n",
    "print(a ** 10)"
   ]
  },
  {
   "cell_type": "markdown",
   "metadata": {
    "slideshow": {
     "slide_type": "fragment"
    }
   },
   "source": [
    "* division entière"
   ]
  },
  {
   "cell_type": "code",
   "execution_count": 19,
   "metadata": {
    "slideshow": {
     "slide_type": "fragment"
    }
   },
   "outputs": [
    {
     "output_type": "execute_result",
     "data": {
      "text/plain": "3"
     },
     "metadata": {},
     "execution_count": 19
    }
   ],
   "source": [
    "10 // 3"
   ]
  },
  {
   "cell_type": "markdown",
   "metadata": {
    "slideshow": {
     "slide_type": "fragment"
    }
   },
   "source": [
    "* division flottante"
   ]
  },
  {
   "cell_type": "code",
   "execution_count": 20,
   "metadata": {
    "slideshow": {
     "slide_type": "fragment"
    }
   },
   "outputs": [
    {
     "output_type": "execute_result",
     "data": {
      "text/plain": "3.3333333333333335"
     },
     "metadata": {},
     "execution_count": 20
    }
   ],
   "source": [
    "10 / 3"
   ]
  },
  {
   "cell_type": "markdown",
   "metadata": {
    "slideshow": {
     "slide_type": "fragment"
    }
   },
   "source": [
    "* modulo"
   ]
  },
  {
   "cell_type": "code",
   "execution_count": 13,
   "metadata": {
    "slideshow": {
     "slide_type": "fragment"
    }
   },
   "outputs": [
    {
     "output_type": "execute_result",
     "data": {
      "text/plain": "1"
     },
     "metadata": {},
     "execution_count": 13
    }
   ],
   "source": [
    "10 % 3"
   ]
  },
  {
   "cell_type": "markdown",
   "metadata": {
    "slideshow": {
     "slide_type": "subslide"
    }
   },
   "source": [
    "**Questions**\n",
    "\n",
    "---\n",
    "Marcel met 17 minutes et 37 secondes pour venir à la fac. Combien de secondes cela fait-il au total?"
   ]
  },
  {
   "cell_type": "code",
   "execution_count": 15,
   "metadata": {
    "slideshow": {
     "slide_type": "notes"
    },
    "tags": []
   },
   "outputs": [
    {
     "output_type": "stream",
     "name": "stdout",
     "text": "1057\n"
    }
   ],
   "source": [
    "res = 17 * 60 + 37\n",
    "print(res)"
   ]
  },
  {
   "cell_type": "code",
   "execution_count": null,
   "metadata": {
    "slideshow": {
     "slide_type": "fragment"
    }
   },
   "outputs": [],
   "source": []
  },
  {
   "cell_type": "markdown",
   "metadata": {
    "slideshow": {
     "slide_type": "fragment"
    }
   },
   "source": [
    "Il fait l'aller retour cinq fois par semaines. Combien d'heures, minutes et seconde passe-t'il à faire ce trajet dans la semaine?"
   ]
  },
  {
   "cell_type": "code",
   "execution_count": 16,
   "metadata": {
    "slideshow": {
     "slide_type": "notes"
    },
    "tags": []
   },
   "outputs": [
    {
     "output_type": "stream",
     "name": "stdout",
     "text": "2 56 10\n"
    }
   ],
   "source": [
    "s_tot = 2 * 5 * res\n",
    "h = s_tot // 3600\n",
    "s_tot = s_tot % 3600\n",
    "m = s_tot // 60\n",
    "s = s_tot % 60\n",
    "print(h, m, s)"
   ]
  },
  {
   "cell_type": "code",
   "execution_count": null,
   "metadata": {
    "slideshow": {
     "slide_type": "fragment"
    }
   },
   "outputs": [],
   "source": []
  },
  {
   "cell_type": "markdown",
   "metadata": {
    "slideshow": {
     "slide_type": "subslide"
    }
   },
   "source": [
    "**Opérateurs d'affectation augmentés**\n",
    "\n",
    "---\n",
    "Ajouter la valeur de `b` à la variable `a`:"
   ]
  },
  {
   "cell_type": "code",
   "execution_count": 24,
   "metadata": {
    "slideshow": {
     "slide_type": "fragment"
    },
    "tags": []
   },
   "outputs": [
    {
     "output_type": "stream",
     "name": "stdout",
     "text": "5\n"
    }
   ],
   "source": [
    "a, b = 2, 3\n",
    "a += b\n",
    "print(a)"
   ]
  },
  {
   "cell_type": "markdown",
   "metadata": {
    "slideshow": {
     "slide_type": "fragment"
    }
   },
   "source": [
    "Incrémenter (ajouter 1 à une) variable:"
   ]
  },
  {
   "cell_type": "code",
   "execution_count": 17,
   "metadata": {
    "slideshow": {
     "slide_type": "fragment"
    },
    "tags": []
   },
   "outputs": [
    {
     "output_type": "stream",
     "name": "stdout",
     "text": "1.0000000001\n"
    }
   ],
   "source": [
    "a += 1\n",
    "print(a)"
   ]
  },
  {
   "cell_type": "markdown",
   "metadata": {
    "slideshow": {
     "slide_type": "fragment"
    }
   },
   "source": [
    "Autres opérateurs: `-=`, `*=`, etc..."
   ]
  },
  {
   "cell_type": "markdown",
   "metadata": {
    "slideshow": {
     "slide_type": "subslide"
    }
   },
   "source": [
    "**Type flottant**\n",
    "\n",
    "---\n",
    "Pour la plupart des nombres à virgule, on manipule une *approximation* de leur valeur."
   ]
  },
  {
   "cell_type": "code",
   "execution_count": 21,
   "metadata": {
    "slideshow": {
     "slide_type": "fragment"
    }
   },
   "outputs": [
    {
     "output_type": "execute_result",
     "data": {
      "text/plain": "False"
     },
     "metadata": {},
     "execution_count": 21
    }
   ],
   "source": [
    "3 * 0.1 == 0.3"
   ]
  },
  {
   "cell_type": "markdown",
   "metadata": {
    "slideshow": {
     "slide_type": "fragment"
    }
   },
   "source": [
    "La valeur exacte d'un flottant est donné par la fraction des 2 nombres suivants:"
   ]
  },
  {
   "cell_type": "code",
   "execution_count": 20,
   "metadata": {
    "slideshow": {
     "slide_type": "fragment"
    }
   },
   "outputs": [
    {
     "output_type": "execute_result",
     "data": {
      "text/plain": "(3602879701896397, 36028797018963968)"
     },
     "metadata": {},
     "execution_count": 20
    }
   ],
   "source": [
    "(0.1).as_integer_ratio()"
   ]
  },
  {
   "cell_type": "markdown",
   "metadata": {
    "slideshow": {
     "slide_type": "notes"
    }
   },
   "source": [
    "Les librairies `decimal` ou `fractions` permettent de faire du calcul exact."
   ]
  },
  {
   "cell_type": "markdown",
   "metadata": {
    "slideshow": {
     "slide_type": "subslide"
    }
   },
   "source": [
    "**Utiliser des fonctions réelles standard**\n",
    "\n",
    "---"
   ]
  },
  {
   "cell_type": "code",
   "execution_count": 22,
   "metadata": {
    "slideshow": {
     "slide_type": "fragment"
    }
   },
   "outputs": [
    {
     "output_type": "error",
     "ename": "NameError",
     "evalue": "name &#39;cos&#39; is not defined",
     "traceback": [
      "\u001b[1;31m---------------------------------------------------------------------------\u001b[0m",
      "\u001b[1;31mNameError\u001b[0m                                 Traceback (most recent call last)",
      "\u001b[1;32m&lt;ipython-input-22-eec0e15494bc&gt;\u001b[0m in \u001b[0;36m&lt;module&gt;\u001b[1;34m\u001b[0m\n\u001b[1;32m----&gt; 1\u001b[1;33m \u001b[0mcos\u001b[0m\u001b[1;33m(\u001b[0m\u001b[1;36m3.14\u001b[0m\u001b[1;33m)\u001b[0m\u001b[1;33m\u001b[0m\u001b[1;33m\u001b[0m\u001b[0m\n\u001b[0m",
      "\u001b[1;31mNameError\u001b[0m: name &#39;cos&#39; is not defined"
     ]
    }
   ],
   "source": [
    "cos(3.14)"
   ]
  },
  {
   "cell_type": "code",
   "execution_count": 23,
   "metadata": {
    "slideshow": {
     "slide_type": "fragment"
    }
   },
   "outputs": [
    {
     "output_type": "execute_result",
     "data": {
      "text/plain": "-1.0"
     },
     "metadata": {},
     "execution_count": 23
    }
   ],
   "source": [
    "import math\n",
    "math.cos(math.pi)"
   ]
  },
  {
   "cell_type": "markdown",
   "metadata": {
    "slideshow": {
     "slide_type": "fragment"
    }
   },
   "source": [
    "La fonction cosinus n'est pas native de Python. Elle est dans le *module* `math`."
   ]
  },
  {
   "cell_type": "markdown",
   "metadata": {
    "slideshow": {
     "slide_type": "subslide"
    }
   },
   "source": [
    "**Type booléen**\n",
    "\n",
    "---\n",
    "Utile pour les *instructions de contrôle* d'un programme.\n",
    "* Deux valeurs: `False` et `True`.\n",
    "* Opérateurs de l'algèbre de Boole: `and`, `or`, `not`\n",
    "* Opérateurs de comparaison:\n",
    "    * `>=` supérieur ou égal\n",
    "    * `==` test d'égalité\n",
    "    * `!=` test de non égalité\n",
    "   \n",
    "**Question**: tester si une variable est plus petite ou égale à 0 ou bien comprise entre 1 et 3 sans être entière. \n"
   ]
  },
  {
   "cell_type": "code",
   "execution_count": 24,
   "metadata": {
    "slideshow": {
     "slide_type": "notes"
    },
    "tags": []
   },
   "outputs": [
    {
     "output_type": "stream",
     "name": "stdout",
     "text": "True\n"
    }
   ],
   "source": [
    "a = -0.5\n",
    "res = (a <= 0) or (a > 1 and a < 3 and a != 2)\n",
    "print(res)"
   ]
  },
  {
   "cell_type": "code",
   "execution_count": null,
   "metadata": {
    "slideshow": {
     "slide_type": "fragment"
    }
   },
   "outputs": [],
   "source": []
  },
  {
   "cell_type": "markdown",
   "metadata": {
    "slideshow": {
     "slide_type": "subslide"
    }
   },
   "source": [
    "**Chaînes de caractères (string)**\n",
    "\n",
    "---\n",
    "Suite de caractères entre guillemets (simple ou double)."
   ]
  },
  {
   "cell_type": "code",
   "execution_count": 30,
   "metadata": {
    "slideshow": {
     "slide_type": "fragment"
    },
    "tags": []
   },
   "outputs": [
    {
     "output_type": "stream",
     "name": "stdout",
     "text": "hello world\n"
    }
   ],
   "source": [
    "s1 = \"hello\"\n",
    "s2 = 'world'\n",
    "print(s1, s2)"
   ]
  },
  {
   "cell_type": "markdown",
   "metadata": {
    "slideshow": {
     "slide_type": "fragment"
    }
   },
   "source": [
    "Des opérations sur les chaînes de caractères sont fournies nativement:"
   ]
  },
  {
   "cell_type": "code",
   "execution_count": 31,
   "metadata": {
    "slideshow": {
     "slide_type": "fragment"
    },
    "tags": []
   },
   "outputs": [
    {
     "output_type": "stream",
     "name": "stdout",
     "text": "helloworld\n5\nFalse\nFalse\nHELLO\n"
    }
   ],
   "source": [
    "print(s1 + s2)\n",
    "print(len(s1))\n",
    "print(s1 > s2)\n",
    "print(s1 in s2)\n",
    "print(s1.upper())"
   ]
  },
  {
   "cell_type": "markdown",
   "metadata": {
    "slideshow": {
     "slide_type": "fragment"
    }
   },
   "source": [
    "**Question**: quelle est la signification de ces opérations?"
   ]
  },
  {
   "cell_type": "markdown",
   "metadata": {
    "slideshow": {
     "slide_type": "subslide"
    }
   },
   "source": [
    "**Connaître plus de fonctions de manipulations des chaînes de caractères**\n",
    "\n",
    "---\n",
    "\n",
    "* documentation officielle Python3: [https://docs.python.org/fr/3/library/stdtypes.html#text-sequence-type-str](https://docs.python.org/fr/3/library/stdtypes.html#text-sequence-type-str)\n",
    "* faire une recherche sur internet (par exemple sur [stackoverflow](https://stackoverflow.com/)) pour un usage précis\n",
    "* directement dans l'interpréteur:"
   ]
  },
  {
   "cell_type": "code",
   "execution_count": 25,
   "metadata": {
    "slideshow": {
     "slide_type": "fragment"
    },
    "tags": []
   },
   "outputs": [
    {
     "output_type": "stream",
     "name": "stdout",
     "text": "Help on class str in module builtins:\n\nclass str(object)\n |  str(object=&#39;&#39;) -&gt; str\n |  str(bytes_or_buffer[, encoding[, errors]]) -&gt; str\n |  \n |  Create a new string object from the given object. If encoding or\n |  errors is specified, then the object must expose a data buffer\n |  that will be decoded using the given encoding and error handler.\n |  Otherwise, returns the result of object.__str__() (if defined)\n |  or repr(object).\n |  encoding defaults to sys.getdefaultencoding().\n |  errors defaults to &#39;strict&#39;.\n |  \n |  Methods defined here:\n |  \n |  __add__(self, value, /)\n |      Return self+value.\n |  \n |  __contains__(self, key, /)\n |      Return key in self.\n |  \n |  __eq__(self, value, /)\n |      Return self==value.\n |  \n |  __format__(self, format_spec, /)\n |      Return a formatted version of the string as described by format_spec.\n |  \n |  __ge__(self, value, /)\n |      Return self&gt;=value.\n |  \n |  __getattribute__(self, name, /)\n |      Return getattr(self, name).\n |  \n |  __getitem__(self, key, /)\n |      Return self[key].\n |  \n |  __getnewargs__(...)\n |  \n |  __gt__(self, value, /)\n |      Return self&gt;value.\n |  \n |  __hash__(self, /)\n |      Return hash(self).\n |  \n |  __iter__(self, /)\n |      Implement iter(self).\n |  \n |  __le__(self, value, /)\n |      Return self&lt;=value.\n |  \n |  __len__(self, /)\n |      Return len(self).\n |  \n |  __lt__(self, value, /)\n |      Return self&lt;value.\n |  \n |  __mod__(self, value, /)\n |      Return self%value.\n |  \n |  __mul__(self, value, /)\n |      Return self*value.\n |  \n |  __ne__(self, value, /)\n |      Return self!=value.\n |  \n |  __repr__(self, /)\n |      Return repr(self).\n |  \n |  __rmod__(self, value, /)\n |      Return value%self.\n |  \n |  __rmul__(self, value, /)\n |      Return value*self.\n |  \n |  __sizeof__(self, /)\n |      Return the size of the string in memory, in bytes.\n |  \n |  __str__(self, /)\n |      Return str(self).\n |  \n |  capitalize(self, /)\n |      Return a capitalized version of the string.\n |      \n |      More specifically, make the first character have upper case and the rest lower\n |      case.\n |  \n |  casefold(self, /)\n |      Return a version of the string suitable for caseless comparisons.\n |  \n |  center(self, width, fillchar=&#39; &#39;, /)\n |      Return a centered string of length width.\n |      \n |      Padding is done using the specified fill character (default is a space).\n |  \n |  count(...)\n |      S.count(sub[, start[, end]]) -&gt; int\n |      \n |      Return the number of non-overlapping occurrences of substring sub in\n |      string S[start:end].  Optional arguments start and end are\n |      interpreted as in slice notation.\n |  \n |  encode(self, /, encoding=&#39;utf-8&#39;, errors=&#39;strict&#39;)\n |      Encode the string using the codec registered for encoding.\n |      \n |      encoding\n |        The encoding in which to encode the string.\n |      errors\n |        The error handling scheme to use for encoding errors.\n |        The default is &#39;strict&#39; meaning that encoding errors raise a\n |        UnicodeEncodeError.  Other possible values are &#39;ignore&#39;, &#39;replace&#39; and\n |        &#39;xmlcharrefreplace&#39; as well as any other name registered with\n |        codecs.register_error that can handle UnicodeEncodeErrors.\n |  \n |  endswith(...)\n |      S.endswith(suffix[, start[, end]]) -&gt; bool\n |      \n |      Return True if S ends with the specified suffix, False otherwise.\n |      With optional start, test S beginning at that position.\n |      With optional end, stop comparing S at that position.\n |      suffix can also be a tuple of strings to try.\n |  \n |  expandtabs(self, /, tabsize=8)\n |      Return a copy where all tab characters are expanded using spaces.\n |      \n |      If tabsize is not given, a tab size of 8 characters is assumed.\n |  \n |  find(...)\n |      S.find(sub[, start[, end]]) -&gt; int\n |      \n |      Return the lowest index in S where substring sub is found,\n |      such that sub is contained within S[start:end].  Optional\n |      arguments start and end are interpreted as in slice notation.\n |      \n |      Return -1 on failure.\n |  \n |  format(...)\n |      S.format(*args, **kwargs) -&gt; str\n |      \n |      Return a formatted version of S, using substitutions from args and kwargs.\n |      The substitutions are identified by braces (&#39;{&#39; and &#39;}&#39;).\n |  \n |  format_map(...)\n |      S.format_map(mapping) -&gt; str\n |      \n |      Return a formatted version of S, using substitutions from mapping.\n |      The substitutions are identified by braces (&#39;{&#39; and &#39;}&#39;).\n |  \n |  index(...)\n |      S.index(sub[, start[, end]]) -&gt; int\n |      \n |      Return the lowest index in S where substring sub is found,\n |      such that sub is contained within S[start:end].  Optional\n |      arguments start and end are interpreted as in slice notation.\n |      \n |      Raises ValueError when the substring is not found.\n |  \n |  isalnum(self, /)\n |      Return True if the string is an alpha-numeric string, False otherwise.\n |      \n |      A string is alpha-numeric if all characters in the string are alpha-numeric and\n |      there is at least one character in the string.\n |  \n |  isalpha(self, /)\n |      Return True if the string is an alphabetic string, False otherwise.\n |      \n |      A string is alphabetic if all characters in the string are alphabetic and there\n |      is at least one character in the string.\n |  \n |  isascii(self, /)\n |      Return True if all characters in the string are ASCII, False otherwise.\n |      \n |      ASCII characters have code points in the range U+0000-U+007F.\n |      Empty string is ASCII too.\n |  \n |  isdecimal(self, /)\n |      Return True if the string is a decimal string, False otherwise.\n |      \n |      A string is a decimal string if all characters in the string are decimal and\n |      there is at least one character in the string.\n |  \n |  isdigit(self, /)\n |      Return True if the string is a digit string, False otherwise.\n |      \n |      A string is a digit string if all characters in the string are digits and there\n |      is at least one character in the string.\n |  \n |  isidentifier(self, /)\n |      Return True if the string is a valid Python identifier, False otherwise.\n |      \n |      Call keyword.iskeyword(s) to test whether string s is a reserved identifier,\n |      such as &quot;def&quot; or &quot;class&quot;.\n |  \n |  islower(self, /)\n |      Return True if the string is a lowercase string, False otherwise.\n |      \n |      A string is lowercase if all cased characters in the string are lowercase and\n |      there is at least one cased character in the string.\n |  \n |  isnumeric(self, /)\n |      Return True if the string is a numeric string, False otherwise.\n |      \n |      A string is numeric if all characters in the string are numeric and there is at\n |      least one character in the string.\n |  \n |  isprintable(self, /)\n |      Return True if the string is printable, False otherwise.\n |      \n |      A string is printable if all of its characters are considered printable in\n |      repr() or if it is empty.\n |  \n |  isspace(self, /)\n |      Return True if the string is a whitespace string, False otherwise.\n |      \n |      A string is whitespace if all characters in the string are whitespace and there\n |      is at least one character in the string.\n |  \n |  istitle(self, /)\n |      Return True if the string is a title-cased string, False otherwise.\n |      \n |      In a title-cased string, upper- and title-case characters may only\n |      follow uncased characters and lowercase characters only cased ones.\n |  \n |  isupper(self, /)\n |      Return True if the string is an uppercase string, False otherwise.\n |      \n |      A string is uppercase if all cased characters in the string are uppercase and\n |      there is at least one cased character in the string.\n |  \n |  join(self, iterable, /)\n |      Concatenate any number of strings.\n |      \n |      The string whose method is called is inserted in between each given string.\n |      The result is returned as a new string.\n |      \n |      Example: &#39;.&#39;.join([&#39;ab&#39;, &#39;pq&#39;, &#39;rs&#39;]) -&gt; &#39;ab.pq.rs&#39;\n |  \n |  ljust(self, width, fillchar=&#39; &#39;, /)\n |      Return a left-justified string of length width.\n |      \n |      Padding is done using the specified fill character (default is a space).\n |  \n |  lower(self, /)\n |      Return a copy of the string converted to lowercase.\n |  \n |  lstrip(self, chars=None, /)\n |      Return a copy of the string with leading whitespace removed.\n |      \n |      If chars is given and not None, remove characters in chars instead.\n |  \n |  partition(self, sep, /)\n |      Partition the string into three parts using the given separator.\n |      \n |      This will search for the separator in the string.  If the separator is found,\n |      returns a 3-tuple containing the part before the separator, the separator\n |      itself, and the part after it.\n |      \n |      If the separator is not found, returns a 3-tuple containing the original string\n |      and two empty strings.\n |  \n |  replace(self, old, new, count=-1, /)\n |      Return a copy with all occurrences of substring old replaced by new.\n |      \n |        count\n |          Maximum number of occurrences to replace.\n |          -1 (the default value) means replace all occurrences.\n |      \n |      If the optional argument count is given, only the first count occurrences are\n |      replaced.\n |  \n |  rfind(...)\n |      S.rfind(sub[, start[, end]]) -&gt; int\n |      \n |      Return the highest index in S where substring sub is found,\n |      such that sub is contained within S[start:end].  Optional\n |      arguments start and end are interpreted as in slice notation.\n |      \n |      Return -1 on failure.\n |  \n |  rindex(...)\n |      S.rindex(sub[, start[, end]]) -&gt; int\n |      \n |      Return the highest index in S where substring sub is found,\n |      such that sub is contained within S[start:end].  Optional\n |      arguments start and end are interpreted as in slice notation.\n |      \n |      Raises ValueError when the substring is not found.\n |  \n |  rjust(self, width, fillchar=&#39; &#39;, /)\n |      Return a right-justified string of length width.\n |      \n |      Padding is done using the specified fill character (default is a space).\n |  \n |  rpartition(self, sep, /)\n |      Partition the string into three parts using the given separator.\n |      \n |      This will search for the separator in the string, starting at the end. If\n |      the separator is found, returns a 3-tuple containing the part before the\n |      separator, the separator itself, and the part after it.\n |      \n |      If the separator is not found, returns a 3-tuple containing two empty strings\n |      and the original string.\n |  \n |  rsplit(self, /, sep=None, maxsplit=-1)\n |      Return a list of the words in the string, using sep as the delimiter string.\n |      \n |        sep\n |          The delimiter according which to split the string.\n |          None (the default value) means split according to any whitespace,\n |          and discard empty strings from the result.\n |        maxsplit\n |          Maximum number of splits to do.\n |          -1 (the default value) means no limit.\n |      \n |      Splits are done starting at the end of the string and working to the front.\n |  \n |  rstrip(self, chars=None, /)\n |      Return a copy of the string with trailing whitespace removed.\n |      \n |      If chars is given and not None, remove characters in chars instead.\n |  \n |  split(self, /, sep=None, maxsplit=-1)\n |      Return a list of the words in the string, using sep as the delimiter string.\n |      \n |      sep\n |        The delimiter according which to split the string.\n |        None (the default value) means split according to any whitespace,\n |        and discard empty strings from the result.\n |      maxsplit\n |        Maximum number of splits to do.\n |        -1 (the default value) means no limit.\n |  \n |  splitlines(self, /, keepends=False)\n |      Return a list of the lines in the string, breaking at line boundaries.\n |      \n |      Line breaks are not included in the resulting list unless keepends is given and\n |      true.\n |  \n |  startswith(...)\n |      S.startswith(prefix[, start[, end]]) -&gt; bool\n |      \n |      Return True if S starts with the specified prefix, False otherwise.\n |      With optional start, test S beginning at that position.\n |      With optional end, stop comparing S at that position.\n |      prefix can also be a tuple of strings to try.\n |  \n |  strip(self, chars=None, /)\n |      Return a copy of the string with leading and trailing whitespace removed.\n |      \n |      If chars is given and not None, remove characters in chars instead.\n |  \n |  swapcase(self, /)\n |      Convert uppercase characters to lowercase and lowercase characters to uppercase.\n |  \n |  title(self, /)\n |      Return a version of the string where each word is titlecased.\n |      \n |      More specifically, words start with uppercased characters and all remaining\n |      cased characters have lower case.\n |  \n |  translate(self, table, /)\n |      Replace each character in the string using the given translation table.\n |      \n |        table\n |          Translation table, which must be a mapping of Unicode ordinals to\n |          Unicode ordinals, strings, or None.\n |      \n |      The table must implement lookup/indexing via __getitem__, for instance a\n |      dictionary or list.  If this operation raises LookupError, the character is\n |      left untouched.  Characters mapped to None are deleted.\n |  \n |  upper(self, /)\n |      Return a copy of the string converted to uppercase.\n |  \n |  zfill(self, width, /)\n |      Pad a numeric string with zeros on the left, to fill a field of the given width.\n |      \n |      The string is never truncated.\n |  \n |  ----------------------------------------------------------------------\n |  Static methods defined here:\n |  \n |  __new__(*args, **kwargs) from builtins.type\n |      Create and return a new object.  See help(type) for accurate signature.\n |  \n |  maketrans(...)\n |      Return a translation table usable for str.translate().\n |      \n |      If there is only one argument, it must be a dictionary mapping Unicode\n |      ordinals (integers) or characters to Unicode ordinals, strings or None.\n |      Character keys will be then converted to ordinals.\n |      If there are two arguments, they must be strings of equal length, and\n |      in the resulting dictionary, each character in x will be mapped to the\n |      character at the same position in y. If there is a third argument, it\n |      must be a string, whose characters will be mapped to None in the result.\n\n"
    }
   ],
   "source": [
    "help(str)"
   ]
  },
  {
   "cell_type": "markdown",
   "metadata": {
    "slideshow": {
     "slide_type": "fragment"
    }
   },
   "source": [
    "Cela fonctionne avec n'importe quel type d'objet:"
   ]
  },
  {
   "cell_type": "code",
   "execution_count": null,
   "metadata": {
    "slideshow": {
     "slide_type": "fragment"
    }
   },
   "outputs": [],
   "source": [
    "help(float)"
   ]
  },
  {
   "cell_type": "markdown",
   "metadata": {
    "slideshow": {
     "slide_type": "subslide"
    }
   },
   "source": [
    "**Des affichages plus sympas**\n",
    "\n",
    "---"
   ]
  },
  {
   "cell_type": "code",
   "execution_count": 27,
   "metadata": {
    "slideshow": {
     "slide_type": "fragment"
    },
    "tags": []
   },
   "outputs": [
    {
     "output_type": "stream",
     "name": "stdout",
     "text": "x vaut 2 et y vaut 3.5\n"
    }
   ],
   "source": [
    "x, y = 2, 3.5\n",
    "print(\"x vaut\", x, \"et y vaut\", y)"
   ]
  },
  {
   "cell_type": "markdown",
   "metadata": {
    "slideshow": {
     "slide_type": "fragment"
    }
   },
   "source": [
    "**Remarque**: la fonction `print` ajoute un espace entre l'affichage de chacun de ses *arguments* et un *retour à la ligne* à la fin.\n",
    "\n",
    "Arguments $=$ expressions séparées par des virgules entre les parenthèses. "
   ]
  },
  {
   "cell_type": "markdown",
   "metadata": {
    "slideshow": {
     "slide_type": "subslide"
    }
   },
   "source": [
    "**Concaténation**\n",
    "\n",
    "---\n",
    "L'opérateur `+` fait la *concaténation* de deux chaînes de caractères.\n",
    "\n",
    "Attention à ne pas mélanger les types:"
   ]
  },
  {
   "cell_type": "code",
   "execution_count": 26,
   "metadata": {
    "slideshow": {
     "slide_type": "fragment"
    }
   },
   "outputs": [
    {
     "output_type": "error",
     "ename": "TypeError",
     "evalue": "can only concatenate str (not &quot;int&quot;) to str",
     "traceback": [
      "\u001b[1;31m---------------------------------------------------------------------------\u001b[0m",
      "\u001b[1;31mTypeError\u001b[0m                                 Traceback (most recent call last)",
      "\u001b[1;32m&lt;ipython-input-26-295c36e74c04&gt;\u001b[0m in \u001b[0;36m&lt;module&gt;\u001b[1;34m\u001b[0m\n\u001b[1;32m----&gt; 1\u001b[1;33m \u001b[1;34m&quot;hello&quot;\u001b[0m \u001b[1;33m+\u001b[0m \u001b[1;36m3\u001b[0m\u001b[1;33m\u001b[0m\u001b[1;33m\u001b[0m\u001b[0m\n\u001b[0m",
      "\u001b[1;31mTypeError\u001b[0m: can only concatenate str (not &quot;int&quot;) to str"
     ]
    }
   ],
   "source": [
    "\"hello\" + 3"
   ]
  },
  {
   "cell_type": "markdown",
   "metadata": {
    "slideshow": {
     "slide_type": "subslide"
    }
   },
   "source": [
    "**Concaténation**\n",
    "\n",
    "---\n",
    "\n",
    "Ce qui suit est légal. Devinez le sens de cette expression:"
   ]
  },
  {
   "cell_type": "code",
   "execution_count": 27,
   "metadata": {
    "slideshow": {
     "slide_type": "fragment"
    },
    "tags": []
   },
   "outputs": [
    {
     "output_type": "stream",
     "name": "stdout",
     "text": "hellohellohello\n"
    }
   ],
   "source": [
    "print(\"hello\" * 3)"
   ]
  },
  {
   "cell_type": "markdown",
   "metadata": {
    "slideshow": {
     "slide_type": "fragment"
    }
   },
   "source": [
    "Comment faire pour afficher 3 fois `hello` en revenant à la ligne à chaque fois?"
   ]
  },
  {
   "cell_type": "code",
   "execution_count": 28,
   "metadata": {
    "slideshow": {
     "slide_type": "notes"
    },
    "tags": []
   },
   "outputs": [
    {
     "output_type": "stream",
     "name": "stdout",
     "text": "hello\nhello\nhello\n\n"
    }
   ],
   "source": [
    "print(\"hello\\n\"*3)"
   ]
  },
  {
   "cell_type": "markdown",
   "metadata": {
    "slideshow": {
     "slide_type": "fragment"
    }
   },
   "source": [
    "On utilise le retour à la ligne `\\n`."
   ]
  },
  {
   "cell_type": "markdown",
   "metadata": {
    "slideshow": {
     "slide_type": "subslide"
    }
   },
   "source": [
    "**Conversion de types**\n",
    "\n",
    "---\n",
    "* Le mélange de flottants et d'entiers dans une expression numérique donne une valeur flottante"
   ]
  },
  {
   "cell_type": "code",
   "execution_count": 26,
   "metadata": {
    "slideshow": {
     "slide_type": "fragment"
    },
    "tags": []
   },
   "outputs": [
    {
     "output_type": "stream",
     "name": "stdout",
     "text": "&lt;class &#39;float&#39;&gt;\n&lt;class &#39;float&#39;&gt;\n"
    }
   ],
   "source": [
    "print(type(5 + 2.0))\n",
    "print(type(7 * 1.0))"
   ]
  },
  {
   "cell_type": "markdown",
   "metadata": {
    "slideshow": {
     "slide_type": "fragment"
    }
   },
   "source": [
    "* Fonctions de conversion (utilisable quand cela a un sens):\n",
    "    * `int`: conversion en entier\n",
    "    * `float`: conversion en flottant\n",
    "    * `str`: conversion en chaîne de caractères"
   ]
  },
  {
   "cell_type": "code",
   "execution_count": null,
   "metadata": {
    "slideshow": {
     "slide_type": "fragment"
    }
   },
   "outputs": [],
   "source": [
    "x, y = 2, 3.5\n",
    "s = \"x vaut \" + str(x) + \" et y vaut \" + str(y)\n",
    "print(s)"
   ]
  },
  {
   "cell_type": "markdown",
   "metadata": {
    "slideshow": {
     "slide_type": "subslide"
    }
   },
   "source": [
    "**Récupérer une valeur tapée au clavier par un utilisateur**\n",
    "\n",
    "---"
   ]
  },
  {
   "cell_type": "code",
   "execution_count": 29,
   "metadata": {
    "slideshow": {
     "slide_type": "fragment"
    },
    "tags": []
   },
   "outputs": [
    {
     "output_type": "stream",
     "name": "stdout",
     "text": "one piece est une master class\n"
    }
   ],
   "source": [
    "s = input(\"Entrer un texte\\n\")\n",
    "print(s)"
   ]
  },
  {
   "cell_type": "code",
   "execution_count": 30,
   "metadata": {
    "slideshow": {
     "slide_type": "fragment"
    }
   },
   "outputs": [
    {
     "output_type": "error",
     "ename": "TypeError",
     "evalue": "unsupported operand type(s) for -: &#39;str&#39; and &#39;int&#39;",
     "traceback": [
      "\u001b[1;31m---------------------------------------------------------------------------\u001b[0m",
      "\u001b[1;31mTypeError\u001b[0m                                 Traceback (most recent call last)",
      "\u001b[1;32m&lt;ipython-input-30-46978b6ff62f&gt;\u001b[0m in \u001b[0;36m&lt;module&gt;\u001b[1;34m\u001b[0m\n\u001b[0;32m      1\u001b[0m \u001b[0ms\u001b[0m \u001b[1;33m=\u001b[0m \u001b[0minput\u001b[0m\u001b[1;33m(\u001b[0m\u001b[1;34m&quot;entrer un nombre entier\\n&quot;\u001b[0m\u001b[1;33m)\u001b[0m\u001b[1;33m\u001b[0m\u001b[1;33m\u001b[0m\u001b[0m\n\u001b[1;32m----&gt; 2\u001b[1;33m \u001b[0mprint\u001b[0m\u001b[1;33m(\u001b[0m\u001b[1;34m&quot;le nombre qui le précède est&quot;\u001b[0m\u001b[1;33m,\u001b[0m \u001b[0ms\u001b[0m \u001b[1;33m-\u001b[0m \u001b[1;36m1\u001b[0m\u001b[1;33m)\u001b[0m\u001b[1;33m\u001b[0m\u001b[1;33m\u001b[0m\u001b[0m\n\u001b[0m",
      "\u001b[1;31mTypeError\u001b[0m: unsupported operand type(s) for -: &#39;str&#39; and &#39;int&#39;"
     ]
    }
   ],
   "source": [
    "s = input(\"entrer un nombre entier\\n\")\n",
    "print(\"le nombre qui le précède est\", s - 1)"
   ]
  },
  {
   "cell_type": "code",
   "execution_count": 31,
   "metadata": {
    "slideshow": {
     "slide_type": "fragment"
    },
    "tags": []
   },
   "outputs": [
    {
     "output_type": "stream",
     "name": "stdout",
     "text": "le nombre qui le précède est 4\n"
    }
   ],
   "source": [
    "s = input(\"entrer un nombre entier\\n\")\n",
    "print(\"le nombre qui le précède est\", int(s) - 1)"
   ]
  },
  {
   "cell_type": "markdown",
   "metadata": {
    "slideshow": {
     "slide_type": "subslide"
    }
   },
   "source": [
    "**Questions**\n",
    "\n",
    "---\n",
    "* deviner ce que pourrait valoir les expressions `-1 % 5`, `int(3.14)`, `int(-3.14)`\n",
    "* demander un nombre entier à l'utilisateur, puis écrire une expression qui retourne `True` si le nombre est pair, et `False` sinon;\n",
    "* écrire une expression qui permet de récupérer le nombre de chiffres de la représentation décimale d'un entier, par exemple de `3 ** 57`;\n",
    "* afficher ensuite le chiffre le plus à gauche de ce nombre."
   ]
  },
  {
   "cell_type": "code",
   "execution_count": 32,
   "metadata": {
    "slideshow": {
     "slide_type": "notes"
    },
    "tags": []
   },
   "outputs": [
    {
     "output_type": "stream",
     "name": "stdout",
     "text": "1570042899082081611640534563 le nombre de chiffres est 28\nTrue\n5\n5\n"
    }
   ],
   "source": [
    "print(3 ** 57, \"le nombre de chiffres est\", len(str(3 ** 57)))\n",
    "s = input(\"Entrer un nombre entier\\n\")\n",
    "print(int(s) % 2 == 0)\n",
    "#pour afficher le chiffre, il faut se débrouiller avec ce qu'on connait...\n",
    "long = len(s)\n",
    "print(int(s) // 10 ** (long - 1))\n",
    "#la bonne solution (qu'on verra plus tard avec les listes)\n",
    "print(s[0])"
   ]
  },
  {
   "cell_type": "code",
   "execution_count": null,
   "metadata": {
    "slideshow": {
     "slide_type": "fragment"
    }
   },
   "outputs": [],
   "source": []
  }
 ],
 "metadata": {
  "celltoolbar": "Diaporama",
  "kernelspec": {
   "display_name": "Python 3",
   "language": "python",
   "name": "python3"
  },
  "language_info": {
   "codemirror_mode": {
    "name": "ipython",
    "version": 3
   },
   "file_extension": ".py",
   "mimetype": "text/x-python",
   "name": "python",
   "nbconvert_exporter": "python",
   "pygments_lexer": "ipython3",
   "version": "3.8.5-final"
  }
 },
 "nbformat": 4,
 "nbformat_minor": 1
}